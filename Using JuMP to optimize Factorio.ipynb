{
 "cells": [
  {
   "cell_type": "code",
   "execution_count": 13,
   "metadata": {
    "collapsed": false
   },
   "outputs": [
    {
     "name": "stderr",
     "output_type": "stream",
     "text": [
      "\u001b[1m\u001b[34mINFO: Nothing to be done\n",
      "\u001b[0m\u001b[1m\u001b[34mINFO: Nothing to be done\n",
      "\u001b[0m"
     ]
    }
   ],
   "source": [
    "Pkg.add(\"JuMP\")\n",
    "Pkg.add(\"Cbc\")\n",
    ";"
   ]
  },
  {
   "cell_type": "code",
   "execution_count": 12,
   "metadata": {
    "collapsed": false,
    "scrolled": true
   },
   "outputs": [],
   "source": [
    "using JuMP\n",
    ";"
   ]
  },
  {
   "cell_type": "markdown",
   "metadata": {},
   "source": [
    "Recipe Type and some macros"
   ]
  },
  {
   "cell_type": "code",
   "execution_count": 3,
   "metadata": {
    "collapsed": true
   },
   "outputs": [],
   "source": [
    "\n",
    "type Recipe\n",
    "\tname::AbstractString\n",
    "\ttime::Float64\n",
    "\touts::Dict{AbstractString, Float64}\n",
    "\tins::Dict{AbstractString, Float64}\n",
    "\tfunction Recipe(name, time, speed)\n",
    "\t\trecips[name] = new(name, time/speed, Dict{AbstractString, Float64}(), Dict{AbstractString, Float64}())\n",
    "\t\trecips[name]\n",
    "\tend\n",
    "end\n",
    "\n",
    "recips = Dict{AbstractString, Recipe}()\n",
    "\n",
    "macro RIN(iname, iqty)\n",
    "\treturn quote\n",
    "\t\trecipe.ins[$iname] = $iqty / recipe.time\n",
    "\tend\n",
    "end\n",
    "\n",
    "macro ROUT(iname, iqty)\n",
    "\treturn quote\n",
    "\t\trecipe.outs[$iname] = $iqty / recipe.time\n",
    "\tend\n",
    "end"
   ]
  },
  {
   "cell_type": "markdown",
   "metadata": {},
   "source": [
    "The Assembler / Chemical Plant / Smelter / Drill speeds. We can tweak these or add more to change the speed from inserting modules. The Wiki says an Assembler 3 with crafting speed 1.25 when fully boosted with four level 3 speed modules, has a crafting speed of 3.75 but 1.25 * 1.5 * 1.5 * 1.5 * 1.5 = 6.328125 so clearly there is something I don't understand, so I haven't included that"
   ]
  },
  {
   "cell_type": "code",
   "execution_count": 24,
   "metadata": {
    "collapsed": false
   },
   "outputs": [],
   "source": [
    "const ASS3SPD = 1.25\n",
    "const CHEMSPD = 1.25\n",
    "const SMELTSPD = 2\n",
    "const DRILLSPD = 1 / 0.525\n",
    ";"
   ]
  },
  {
   "cell_type": "markdown",
   "metadata": {},
   "source": [
    "Specify the crafting recipes, some macros (@RIN & @ROUT) make it more readable"
   ]
  },
  {
   "cell_type": "code",
   "execution_count": 5,
   "metadata": {
    "collapsed": false
   },
   "outputs": [],
   "source": [
    "\n",
    "recipe = Recipe(\"Production 1\", 15, ASS3SPD)\n",
    "@RIN \"Red Circuit\" 5\n",
    "@RIN \"Green Circuit\" 5\n",
    "@ROUT \"Production 1\" 1\n",
    "\n",
    "recipe = Recipe(\"Production 2\", 30, ASS3SPD)\n",
    "@RIN \"Red Circuit\" 5\n",
    "@RIN \"Blue Circuit\" 5\n",
    "@RIN \"Production 1\" 4\n",
    "@ROUT \"Production 2\" 1\n",
    "\n",
    "recipe = Recipe(\"Production 3\", 60, ASS3SPD)\n",
    "@RIN \"Red Circuit\" 5\n",
    "@RIN \"Blue Circuit\" 5\n",
    "@RIN \"Production 2\" 4\n",
    "@RIN \"Alien Artifact\" 1\n",
    "@ROUT \"Production 3\" 1\n",
    "\n",
    "recipe = Recipe(\"Blue Circuit\", 15, ASS3SPD)\n",
    "@RIN \"Green Circuit\" 20\n",
    "@RIN \"Red Circuit\" 2\n",
    "@RIN \"Sulphuric Acid\" 0.5\n",
    "@ROUT \"Blue Circuit\" 1\n",
    "\n",
    "recipe = Recipe(\"Red Circuit\", 8, ASS3SPD)\n",
    "@RIN \"Green Circuit\" 2\n",
    "@RIN \"Plastic\" 2\n",
    "@RIN \"Copper Cable\" 4\n",
    "@ROUT \"Red Circuit\" 1\n",
    "\n",
    "recipe = Recipe(\"Green Circuit\", 0.5, ASS3SPD)\n",
    "@RIN \"Iron Plate\" 1\n",
    "@RIN \"Copper Cable\" 3\n",
    "@ROUT \"Green Circuit\" 1\n",
    "\n",
    "recipe = Recipe(\"Copper Cable\", 0.5, ASS3SPD)\n",
    "@RIN \"Copper Plate\" 1\n",
    "@ROUT \"Copper Cable\" 2\n",
    "\n",
    "recipe = Recipe(\"Plastic\", 1, CHEMSPD)\n",
    "@RIN \"Coal\" 1\n",
    "@RIN \"Petroleum Gas\" 3\n",
    "@ROUT \"Plastic\" 2\n",
    "\n",
    "recipe = Recipe(\"Iron Plate\", 3.5, SMELTSPD)\n",
    "@RIN \"Iron Ore\" 1\n",
    "@ROUT \"Iron Plate\" 1\n",
    "\n",
    "recipe = Recipe(\"Copper Plate\", 3.5, SMELTSPD)\n",
    "@RIN \"Copper Ore\" 1\n",
    "@ROUT \"Copper Plate\" 1\n",
    "\n",
    "recipe = Recipe(\"Iron Ore\", 1, DRILLSPD)\n",
    "@RIN \"Rock\" 1\n",
    "@ROUT \"Iron Ore\" 1\n",
    " \n",
    "recipe = Recipe(\"Copper Ore\", 1, DRILLSPD)\n",
    "@RIN \"Rock\" 1\n",
    "@ROUT \"Copper Ore\" 1\n",
    ";\n"
   ]
  },
  {
   "cell_type": "markdown",
   "metadata": {},
   "source": [
    "All these are the number of crafting stations, we want an integer number and we want zero or more.\n",
    "We can use the same recipes for finding out items below Prod3 e.g. I want 20 Red Circuits an hour, what do I need ?"
   ]
  },
  {
   "cell_type": "code",
   "execution_count": 6,
   "metadata": {
    "collapsed": false
   },
   "outputs": [],
   "source": [
    "\n",
    "m = Model()\n",
    "\n",
    "@variable(m, PROD1s >= 0, Int)\n",
    "@variable(m, PROD2s>= 0, Int)\n",
    "@variable(m, PROD3s >= 0, Int)\n",
    "@variable(m, BLUECs >= 0, Int)\n",
    "@variable(m, REDCs >= 0, Int)\n",
    "@variable(m, GREENCs >= 0, Int)\n",
    "@variable(m, COPPERCs >= 0, Int)\n",
    "@variable(m, PLASTICs >= 0, Int)\n",
    "@variable(m, IRONPs >= 0, Int)\n",
    "@variable(m, COPPERPs >= 0, Int)\n",
    "@variable(m, IRONOs >= 0, Int)\n",
    "@variable(m, COPPEROs >= 0, Int)\n",
    ";"
   ]
  },
  {
   "cell_type": "markdown",
   "metadata": {},
   "source": [
    "Specify what does each factory produces"
   ]
  },
  {
   "cell_type": "code",
   "execution_count": 7,
   "metadata": {
    "collapsed": false
   },
   "outputs": [],
   "source": [
    "\n",
    "Machine = Dict(\n",
    "\tPROD3s=>\"Production 3\",\n",
    "\tPROD2s=>\"Production 2\",\n",
    "\tPROD1s=>\"Production 1\",\n",
    "\tBLUECs=>\"Blue Circuit\",\n",
    "\tREDCs=>\"Red Circuit\",\n",
    "\tGREENCs=>\"Green Circuit\",\n",
    "\tCOPPERCs=>\"Copper Cable\",\n",
    "\tPLASTICs=>\"Plastic\",\n",
    "\tIRONPs=>\"Iron Plate\",\n",
    "\tCOPPERPs=>\"Copper Plate\",\n",
    "\tIRONOs=>\"Iron Ore\",\n",
    "\tCOPPEROs=>\"Copper Ore\"\n",
    "\t)\n",
    ";"
   ]
  },
  {
   "cell_type": "markdown",
   "metadata": {},
   "source": [
    "These macros make constraints a bit easier to type"
   ]
  },
  {
   "cell_type": "code",
   "execution_count": 8,
   "metadata": {
    "collapsed": true
   },
   "outputs": [],
   "source": [
    "\n",
    "macro OUT(fac)\n",
    "\treturn quote\n",
    "\t\t$fac * recips[Machine[$fac]].outs[Machine[$fac]]\n",
    "\tend\n",
    "end\n",
    "\n",
    "macro INS(item)\n",
    "\treturn quote\n",
    "\t\tsum([OtherM * get(recips[Machine[OtherM]].ins, $item, 0) for OtherM in collect(keys(Machine))])\n",
    "\tend\n",
    "end"
   ]
  },
  {
   "cell_type": "markdown",
   "metadata": {},
   "source": [
    "Constrain all the outputs of each machine to produce at least as much as the inputs of the next machine"
   ]
  },
  {
   "cell_type": "code",
   "execution_count": null,
   "metadata": {
    "collapsed": true
   },
   "outputs": [],
   "source": [
    "for (M,Item) in Machine\n",
    "\t@constraint(m, @OUT(M) >= @INS Item)\n",
    "end"
   ]
  },
  {
   "cell_type": "markdown",
   "metadata": {},
   "source": [
    "That's the components, now to specify our problem\n",
    "\n",
    "We want at least 1 PROD3 every 1/60th of a minute "
   ]
  },
  {
   "cell_type": "code",
   "execution_count": null,
   "metadata": {
    "collapsed": true
   },
   "outputs": [],
   "source": [
    "@constraint(m, @OUT(PROD3s) >= 1/60)"
   ]
  },
  {
   "cell_type": "markdown",
   "metadata": {},
   "source": [
    "And, in this case, our objective is to have as few assembly machines as possible (which is shown in the output)"
   ]
  },
  {
   "cell_type": "code",
   "execution_count": 9,
   "metadata": {
    "collapsed": false
   },
   "outputs": [
    {
     "data": {
      "text/latex": [
       "$$ PROD1s + PROD3s + BLUECs + COPPERCs + REDCs + COPPERPs + PROD2s + IRONPs + GREENCs + IRONOs + COPPEROs + PLASTICs $$"
      ],
      "text/plain": [
       "PROD1s + PROD3s + BLUECs + COPPERCs + REDCs + COPPERPs + PROD2s + IRONPs + GREENCs + IRONOs + COPPEROs + PLASTICs"
      ]
     },
     "execution_count": 9,
     "metadata": {},
     "output_type": "execute_result"
    }
   ],
   "source": [
    "\n",
    "\n",
    "@objective(m, Min, sum(collect(keys(Machine))))\n"
   ]
  },
  {
   "cell_type": "markdown",
   "metadata": {},
   "source": [
    "That's the code for the problem, so we can now run the solver"
   ]
  },
  {
   "cell_type": "code",
   "execution_count": 10,
   "metadata": {
    "collapsed": false
   },
   "outputs": [
    {
     "data": {
      "text/plain": [
       ":Optimal"
      ]
     },
     "execution_count": 10,
     "metadata": {},
     "output_type": "execute_result"
    }
   ],
   "source": [
    "solve(m)"
   ]
  },
  {
   "cell_type": "markdown",
   "metadata": {},
   "source": [
    "A pretty printer"
   ]
  },
  {
   "cell_type": "code",
   "execution_count": 22,
   "metadata": {
    "collapsed": false
   },
   "outputs": [],
   "source": [
    "function production(r::Recipe, nfacs)\n",
    "\tif nfacs == 0 return end\n",
    "    @printf \"\\\"%s\\\": %d production facilities\\n\" r.name nfacs\n",
    "\t@printf \"\\tProduces\\n\"\n",
    "\tfor (k,v) in r.outs\n",
    "\t\t@printf \"\\t\\t%0.2f \\\"%s\\\" per min - %0.2f per second\\n\" 60v * nfacs k v * nfacs\n",
    "\tend\n",
    "\t@printf \"\\tConsumes\\n\"\n",
    "\tfor (k,v) in r.ins\n",
    "\t\t@printf \"\\t\\t%0.2f \\\"%s\\\" per min - %0.2f per second\\n\" 60v * nfacs k v * nfacs\n",
    "\tend\n",
    "end\n",
    ";"
   ]
  },
  {
   "cell_type": "markdown",
   "metadata": {},
   "source": [
    "Print out the production numbers for each factory in the order we want - I should really make it search itself, bus as Scarhoof says \"It is what it is\""
   ]
  },
  {
   "cell_type": "code",
   "execution_count": 23,
   "metadata": {
    "collapsed": false
   },
   "outputs": [
    {
     "name": "stdout",
     "output_type": "stream",
     "text": [
      "\"Iron Ore\": 12 production facilities\n",
      "\tProduces\n",
      "\t\t1371.43 \"Iron Ore\" per min - 22.86 per second\n",
      "\tConsumes\n",
      "\t\t1371.43 \"Rock\" per min - 22.86 per second\n",
      "\"Copper Ore\": 23 production facilities\n",
      "\tProduces\n",
      "\t\t2628.57 \"Copper Ore\" per min - 43.81 per second\n",
      "\tConsumes\n",
      "\t\t2628.57 \"Rock\" per min - 43.81 per second\n",
      "\"Iron Plate\": 40 production facilities\n",
      "\tProduces\n",
      "\t\t1371.43 \"Iron Plate\" per min - 22.86 per second\n",
      "\tConsumes\n",
      "\t\t1371.43 \"Iron Ore\" per min - 22.86 per second\n",
      "\"Copper Plate\": 75 production facilities\n",
      "\tProduces\n",
      "\t\t2571.43 \"Copper Plate\" per min - 42.86 per second\n",
      "\tConsumes\n",
      "\t\t2571.43 \"Copper Ore\" per min - 42.86 per second\n",
      "\"Copper Cable\": 17 production facilities\n",
      "\tProduces\n",
      "\t\t5100.00 \"Copper Cable\" per min - 85.00 per second\n",
      "\tConsumes\n",
      "\t\t2550.00 \"Copper Plate\" per min - 42.50 per second\n",
      "\"Green Circuit\": 9 production facilities\n",
      "\tProduces\n",
      "\t\t1350.00 \"Green Circuit\" per min - 22.50 per second\n",
      "\tConsumes\n",
      "\t\t4050.00 \"Copper Cable\" per min - 67.50 per second\n",
      "\t\t1350.00 \"Iron Plate\" per min - 22.50 per second\n",
      "\"Blue Circuit\": 7 production facilities\n",
      "\tProduces\n",
      "\t\t35.00 \"Blue Circuit\" per min - 0.58 per second\n",
      "\tConsumes\n",
      "\t\t70.00 \"Red Circuit\" per min - 1.17 per second\n",
      "\t\t700.00 \"Green Circuit\" per min - 11.67 per second\n",
      "\t\t17.50 \"Sulphuric Acid\" per min - 0.29 per second\n",
      "\"Plastic\": 3 production facilities\n",
      "\tProduces\n",
      "\t\t450.00 \"Plastic\" per min - 7.50 per second\n",
      "\tConsumes\n",
      "\t\t225.00 \"Coal\" per min - 3.75 per second\n",
      "\t\t675.00 \"Petroleum Gas\" per min - 11.25 per second\n",
      "\"Red Circuit\": 22 production facilities\n",
      "\tProduces\n",
      "\t\t206.25 \"Red Circuit\" per min - 3.44 per second\n",
      "\tConsumes\n",
      "\t\t825.00 \"Copper Cable\" per min - 13.75 per second\n",
      "\t\t412.50 \"Green Circuit\" per min - 6.88 per second\n",
      "\t\t412.50 \"Plastic\" per min - 6.88 per second\n",
      "\"Production 1\": 4 production facilities\n",
      "\tProduces\n",
      "\t\t20.00 \"Production 1\" per min - 0.33 per second\n",
      "\tConsumes\n",
      "\t\t100.00 \"Red Circuit\" per min - 1.67 per second\n",
      "\t\t100.00 \"Green Circuit\" per min - 1.67 per second\n",
      "\"Production 2\": 2 production facilities\n",
      "\tProduces\n",
      "\t\t5.00 \"Production 2\" per min - 0.08 per second\n",
      "\tConsumes\n",
      "\t\t25.00 \"Red Circuit\" per min - 0.42 per second\n",
      "\t\t25.00 \"Blue Circuit\" per min - 0.42 per second\n",
      "\t\t20.00 \"Production 1\" per min - 0.33 per second\n",
      "\"Production 3\": 1 production facilities\n",
      "\tProduces\n",
      "\t\t1.25 \"Production 3\" per min - 0.02 per second\n",
      "\tConsumes\n",
      "\t\t6.25 \"Red Circuit\" per min - 0.10 per second\n",
      "\t\t5.00 \"Production 2\" per min - 0.08 per second\n",
      "\t\t1.25 \"Alien Artifact\" per min - 0.02 per second\n",
      "\t\t6.25 \"Blue Circuit\" per min - 0.10 per second\n"
     ]
    }
   ],
   "source": [
    "for m in [IRONOs COPPEROs IRONPs COPPERPs COPPERCs GREENCs BLUECs PLASTICs REDCs PROD1s PROD2s PROD3s]\n",
    "\tproduction(recips[Machine[m]], getvalue(m))\n",
    "end\n",
    "\n",
    "# and the output"
   ]
  }
 ],
 "metadata": {
  "kernelspec": {
   "display_name": "Julia 0.4.7",
   "language": "julia",
   "name": "julia-0.4"
  },
  "language_info": {
   "file_extension": ".jl",
   "mimetype": "application/julia",
   "name": "julia",
   "version": "0.4.7"
  }
 },
 "nbformat": 4,
 "nbformat_minor": 1
}
